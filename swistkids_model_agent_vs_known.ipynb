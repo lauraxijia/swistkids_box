{
 "cells": [
  {
   "cell_type": "code",
   "execution_count": 1,
   "metadata": {},
   "outputs": [],
   "source": [
    "import random as rd\n",
    "import numpy as np\n",
    "from scipy.stats import uniform\n",
    "import matplotlib.pyplot as plt\n",
    "import pandas as pd\n",
    "import seaborn as sns"
   ]
  },
  {
   "cell_type": "code",
   "execution_count": 2,
   "metadata": {},
   "outputs": [],
   "source": [
    "#Initializing variables\n",
    "\n",
    "#Range of boxes\n",
    "boxes = np.array([1,2,3,4,5])\n",
    "prior_box = 1.0/len(boxes) # Prior\n",
    "\n",
    "#Strengthes of agents\n",
    "strength = {'A':1, 'B':4 }\n",
    "\n",
    "#debug default\n",
    "box = 4\n",
    "agent = 'A'\n"
   ]
  },
  {
   "cell_type": "code",
   "execution_count": 3,
   "metadata": {},
   "outputs": [
    {
     "data": {
      "text/plain": [
       "dict_keys(['A', 'B'])"
      ]
     },
     "execution_count": 3,
     "metadata": {},
     "output_type": "execute_result"
    }
   ],
   "source": [
    "strength.keys()"
   ]
  },
  {
   "cell_type": "markdown",
   "metadata": {},
   "source": [
    "## Probability of outcome, given agent's strength and box weight"
   ]
  },
  {
   "cell_type": "markdown",
   "metadata": {},
   "source": [
    "Can the agent lift the box?\n",
    "\n",
    "Deterministic function that's true if the agent's strength is greater than or equal to the weight of the box, false otherwise."
   ]
  },
  {
   "cell_type": "code",
   "execution_count": 4,
   "metadata": {},
   "outputs": [
    {
     "data": {
      "text/plain": [
       "False"
      ]
     },
     "execution_count": 4,
     "metadata": {},
     "output_type": "execute_result"
    }
   ],
   "source": [
    "#Define helping funciton lift = T/F\n",
    "\n",
    "def lift(box,agent):\n",
    "    \n",
    "    lift_success = strength[agent] >= box\n",
    "    \n",
    "    return lift_success\n",
    "\n",
    "lift(box,agent)"
   ]
  },
  {
   "cell_type": "markdown",
   "metadata": {},
   "source": [
    "Converts the output of the function above to a likelihood."
   ]
  },
  {
   "cell_type": "code",
   "execution_count": 5,
   "metadata": {},
   "outputs": [
    {
     "data": {
      "text/plain": [
       "0"
      ]
     },
     "execution_count": 5,
     "metadata": {},
     "output_type": "execute_result"
    }
   ],
   "source": [
    "#Calculating Likelihood Out: p(Out|Box,Agent)\n",
    "\n",
    "def likelihood_success(box,agent):\n",
    "    \n",
    "    p_success = lift(box, agent) * 1\n",
    "    \n",
    "    return p_success\n",
    "\n",
    "likelihood_success(box, agent)"
   ]
  },
  {
   "cell_type": "markdown",
   "metadata": {},
   "source": [
    "Posterior probability: given an observed outcome and strength, what's the likely weight of the box?"
   ]
  },
  {
   "cell_type": "code",
   "execution_count": 16,
   "metadata": {},
   "outputs": [
    {
     "data": {
      "text/plain": [
       "array([ 0.25,  0.25,  0.25,  0.25,  0.  ])"
      ]
     },
     "execution_count": 16,
     "metadata": {},
     "output_type": "execute_result"
    }
   ],
   "source": [
    "def posterior_box(box, agent, outcome):\n",
    "    '''\n",
    "    posterior_box: P(box | agent, outcome)\n",
    "    box: weight of child's box (int)\n",
    "    agent: agent label (string, must be in strength.keys())\n",
    "    outcome: True if agent succeeded, False if agent failed\n",
    "    '''\n",
    "    \n",
    "    # Possible boxes\n",
    "    # Prior is uniformly distributed over all boxes *except* the one we gave to the child\n",
    "    other_boxes = np.setdiff1d(boxes, [box])\n",
    "    other_prior = np.where(boxes == box, 0, 1.0/len(other_boxes))\n",
    "    \n",
    "    # Likelihood of outcome\n",
    "    p_success = np.array([likelihood_success(b, agent) for b in boxes])\n",
    "    p_outcome = p_success if outcome else 1-p_success\n",
    "    \n",
    "    # Posterior (unnormalized)\n",
    "    joint_p = other_prior*p_outcome\n",
    "    \n",
    "    # Posterior (normalized)\n",
    "    p_data = np.sum(joint_p)\n",
    "    p_box = joint_p/p_data\n",
    "    \n",
    "    return p_box\n",
    "\n",
    "posterior_box(5, 'B', True)"
   ]
  },
  {
   "cell_type": "markdown",
   "metadata": {},
   "source": [
    "Expected value of the box:"
   ]
  },
  {
   "cell_type": "code",
   "execution_count": 17,
   "metadata": {},
   "outputs": [],
   "source": [
    "def e_box(box, agent, outcome):\n",
    "    \n",
    "    p_box = posterior_box(box, agent, outcome)\n",
    "    weighted_boxes = boxes*p_box\n",
    "    \n",
    "    expectation = np.sum(weighted_boxes)\n",
    "    \n",
    "    return expectation    "
   ]
  },
  {
   "cell_type": "markdown",
   "metadata": {},
   "source": [
    "## Plotting"
   ]
  },
  {
   "cell_type": "markdown",
   "metadata": {},
   "source": [
    "Expected value of the hidden box, given the child's own box, the agent, and the outcome:"
   ]
  },
  {
   "cell_type": "code",
   "execution_count": 25,
   "metadata": {},
   "outputs": [
    {
     "data": {
      "text/plain": [
       "<seaborn.axisgrid.FacetGrid at 0x11789a198>"
      ]
     },
     "execution_count": 25,
     "metadata": {},
     "output_type": "execute_result"
    },
    {
     "data": {
      "image/png": "[encoded data removed]",
      "text/plain": [
       "<matplotlib.figure.Figure at 0x1180d4128>"
      ]
     },
     "metadata": {},
     "output_type": "display_data"
    }
   ],
   "source": [
    "# Calculate EV for all agents and outcomes\n",
    "model_data = [(box, agent, out, e_box(box, agent, out))\n",
    "              for box in boxes\n",
    "              for agent in ['A', 'B'] for out in [True, False]]\n",
    "model_df = pd.DataFrame(model_data, columns=['Box', 'Agent', 'Outcome', 'eBox'])\n",
    "model_df['Outcome'] = np.where(model_df['Outcome'], 'Succeed', 'Fail')\n",
    "\n",
    "# Aesthetics\n",
    "#graycolors = sns.mpl_palette('Greys_r', 2)\n",
    "\n",
    "#Generate plot\n",
    "sns.factorplot(x='Box', y='eBox', hue='Outcome', col='Agent', data=model_df)\n",
    "# sns.factorplot(x='Agent', y='eBox', hue='Outcome', data=ebox_df,\n",
    "#                palette = graycolors, linestyles =['--', '-'])"
   ]
  },
  {
   "cell_type": "markdown",
   "metadata": {},
   "source": [
    "Translate expected values to choice probabilities (assuming that the child is perfectly greedy):"
   ]
  },
  {
   "cell_type": "code",
   "execution_count": 28,
   "metadata": {},
   "outputs": [
    {
     "data": {
      "text/plain": [
       "<seaborn.axisgrid.FacetGrid at 0x1189097f0>"
      ]
     },
     "execution_count": 28,
     "metadata": {},
     "output_type": "execute_result"
    },
    {
     "data": {
      "image/png": "[encoded data removed]",
      "text/plain": [
       "<matplotlib.figure.Figure at 0x1188d6a58>"
      ]
     },
     "metadata": {},
     "output_type": "display_data"
    }
   ],
   "source": [
    "model_df['pSwitch'] = (model_df['eBox'] > model_df['Box'])*1\n",
    "sns.factorplot(x='Box', y='pSwitch', hue='Outcome', col='Agent', data=model_df)"
   ]
  },
  {
   "cell_type": "markdown",
   "metadata": {},
   "source": [
    "## Scratch"
   ]
  },
  {
   "cell_type": "code",
   "execution_count": null,
   "metadata": {},
   "outputs": [],
   "source": [
    "#Calculating Marginal Likelihood: p(Out|Agent)\n",
    "\n",
    "def p_outgivenAgent(box,agent):\n",
    "    p_outgvnAgent = strength[agent]/ len(boxes)\n",
    "    return p_outgvnAgent\n",
    "\n",
    "p_outgivenAgent(box,agent)\n"
   ]
  },
  {
   "cell_type": "code",
   "execution_count": null,
   "metadata": {},
   "outputs": [],
   "source": [
    "#Calculating Posterior for successful cases: p(Box|Out)\n",
    "\n",
    "def p_boxOut(box,agent):\n",
    "    p_boxOut= p_box(box,agent)*p_outgivenBox(box,agent)/p_outgivenAgent(box,agent)\n",
    "    return p_boxOut\n",
    "\n",
    "p_boxOut(box,agent)\n",
    "    "
   ]
  },
  {
   "cell_type": "markdown",
   "metadata": {},
   "source": [
    "## Agent fails lifting the box"
   ]
  },
  {
   "cell_type": "code",
   "execution_count": null,
   "metadata": {},
   "outputs": [],
   "source": [
    "#Calculating Likelihood: p(X Out|Box,Agent)\n",
    "\n",
    "def p_nOutgivenBox(box,agent):\n",
    "    p_nOutgvnBox = 1 if lift(box,agent) == False else 0\n",
    "    return p_nOutgvnBox\n",
    "\n",
    "p_nOutgivenBox(box,agent)"
   ]
  },
  {
   "cell_type": "code",
   "execution_count": null,
   "metadata": {},
   "outputs": [],
   "source": [
    "#Calculating Marginal Likelihood: p(X Out|Agent)\n",
    "\n",
    "def p_nOutgivenAgent(box,agent):\n",
    "    p_nOutgvnAgent = (len(boxes) - strength[agent])/ len(boxes)\n",
    "    return p_nOutgvnAgent\n",
    "\n",
    "p_nOutgivenAgent(box,agent)"
   ]
  },
  {
   "cell_type": "code",
   "execution_count": null,
   "metadata": {},
   "outputs": [],
   "source": [
    "#Calculating Posterior for failing cases: p(Box|nOut)\n",
    "\n",
    "def p_boxnOut(box,agent):\n",
    "    p_boxnOut= p_box(box,agent)*p_nOutgivenBox(box,agent)/p_nOutgivenAgent(box,agent)\n",
    "    return p_boxnOut\n",
    "\n",
    "p_boxnOut(box,agent)"
   ]
  },
  {
   "cell_type": "markdown",
   "metadata": {},
   "source": [
    "## Graphs"
   ]
  },
  {
   "cell_type": "code",
   "execution_count": null,
   "metadata": {},
   "outputs": [],
   "source": [
    "#Ploting Prior: p(Box)\n",
    "\n",
    "x = np.linspace(boxes[0],boxes[-1],len(boxes))\n",
    "#x: array([ 1.,  2.,  3.,  4.,  5.])\n",
    "\n",
    "plt.plot(boxes,uniform.pdf(x, loc = boxes[0], scale = len(boxes)))\n",
    "plt.title('Prior')"
   ]
  },
  {
   "cell_type": "code",
   "execution_count": null,
   "metadata": {},
   "outputs": [],
   "source": [
    "#Ploting Likelihood: p(Out|Box,Agent)\n",
    "\n",
    "# x = np.linspace(boxes[0],boxes[-1],len(boxes))\n",
    "# x: array([ 1.,  2.,  3.,  4.,  5.])\n",
    "y_w = []\n",
    "y_s = []\n",
    "for agent in strength.keys():\n",
    "    for box in boxes:\n",
    "        if agent == 'A':\n",
    "            y_w.append(p_outgivenBox(box,agent))\n",
    "        else: y_s.append(p_outgivenBox(box,agent))\n",
    "            \n",
    "            \n",
    "fig,ax = plt.subplots()\n",
    "ax.plot(x,y_w,'b--', label = 'weak')\n",
    "ax.plot(x,y_s,'k--', label='strong')\n",
    "\n",
    "legend = ax.legend(loc = 'best', title = 'success')\n",
    "\n",
    "plt.axis([0, 6, 0, 1])\n",
    "plt.title('Likelihood: p(Out|Box,Agent)')\n",
    "plt.show()\n"
   ]
  },
  {
   "cell_type": "code",
   "execution_count": null,
   "metadata": {},
   "outputs": [],
   "source": [
    "#Ploting Likelihood: p(X Out|Box,Agent)\n",
    "\n",
    "y_nw = []\n",
    "y_ns = []\n",
    "for agent in strength.keys():\n",
    "    for box in boxes:\n",
    "        if agent == 'A':\n",
    "            y_nw.append(p_nOutgivenBox(box,agent))\n",
    "        else: y_ns.append(p_nOutgivenBox(box,agent))\n",
    "            \n",
    "            \n",
    "fig,ax = plt.subplots()\n",
    "ax.plot(x,y_nw,'b', label = 'weak')\n",
    "ax.plot(x,y_ns,'k', label='strong')\n",
    "\n",
    "legend = ax.legend(loc = 'best', title = 'failure')\n",
    "\n",
    "plt.axis([0, 6, 0, 1])\n",
    "plt.title('Likelihood: p(x Out|Box,Agent)')\n",
    "plt.show()\n"
   ]
  },
  {
   "cell_type": "code",
   "execution_count": null,
   "metadata": {},
   "outputs": [],
   "source": [
    "\n",
    "#Ploting everything together\n",
    "\n",
    "fig,ax = plt.subplots()\n",
    "\n",
    "ax.plot(x,y_w,'b--')\n",
    "ax.plot(x,y_s,'k--')\n",
    "ax.plot(x,y_nw,'b')\n",
    "ax.plot(x,y_ns,'k')\n",
    "\n",
    "#legend = ax.legend(loc = 'best')\n",
    "\n",
    "plt.axis([0, 6, 0, 1])\n",
    "plt.title('All Likelihood')\n",
    "plt.show()\n",
    "\n",
    "\n"
   ]
  },
  {
   "cell_type": "code",
   "execution_count": null,
   "metadata": {},
   "outputs": [],
   "source": [
    "#Ploting Posterior\n",
    "\n",
    "y_ws = [] #weak success\n",
    "y_wf = [] #weak fail\n",
    "y_ss = [] #strong success\n",
    "y_sf = [] #strong fail\n",
    "\n",
    "\n",
    "for agent in strength.keys():\n",
    "    for box in boxes:\n",
    "        if agent == 'A':\n",
    "            y_ws.append(p_boxOut(box,agent))\n",
    "            y_wf.append(p_boxnOut(box,agent))\n",
    "        else: \n",
    "            y_ss.append(p_boxOut(box,agent))\n",
    "            y_sf.append(p_boxnOut(box,agent))\n",
    "            \n",
    "\n",
    "fig,ax = plt.subplots()         \n",
    "ax.plot(x,y_ws,'b--', label = 'wea suc')\n",
    "ax.plot(x,y_wf,'b', label='wea fai')\n",
    "ax.plot(x,y_ss,'k--', label = 'str suc')\n",
    "ax.plot(x,y_sf,'k', label='str fai')\n",
    "\n",
    "legend = ax.legend(loc = 'best')\n",
    "\n",
    "plt.title('p(Box|Out/nOut)')\n",
    "\n",
    "\n",
    "plt.show()\n",
    "\n",
    "\n",
    "        \n",
    "            \n",
    "            \n"
   ]
  },
  {
   "cell_type": "code",
   "execution_count": null,
   "metadata": {},
   "outputs": [],
   "source": []
  },
  {
   "cell_type": "code",
   "execution_count": null,
   "metadata": {},
   "outputs": [],
   "source": []
  }
 ],
 "metadata": {
  "anaconda-cloud": {},
  "kernelspec": {
   "display_name": "Python [conda env:anaconda3]",
   "language": "python",
   "name": "conda-env-anaconda3-py"
  },
  "language_info": {
   "codemirror_mode": {
    "name": "ipython",
    "version": 3
   },
   "file_extension": ".py",
   "mimetype": "text/x-python",
   "name": "python",
   "nbconvert_exporter": "python",
   "pygments_lexer": "ipython3",
   "version": "3.5.2"
  }
 },
 "nbformat": 4,
 "nbformat_minor": 2
}
